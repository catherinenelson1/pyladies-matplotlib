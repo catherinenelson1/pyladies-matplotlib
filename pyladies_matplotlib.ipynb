{
 "cells": [
  {
   "cell_type": "markdown",
   "metadata": {},
   "source": [
    "# Matplotlib In Style\n",
    "\n",
    "## creating beautiful plots with style sheets\n",
    "\n",
    "Seattle Pyladies Remote Lightning Talks, 3/19/20\n",
    "\n",
    "----"
   ]
  },
  {
   "cell_type": "code",
   "execution_count": null,
   "metadata": {},
   "outputs": [],
   "source": [
    "import matplotlib.pyplot as plt\n",
    "import numpy as np"
   ]
  },
  {
   "cell_type": "markdown",
   "metadata": {},
   "source": [
    "Start by defining a simple function"
   ]
  },
  {
   "cell_type": "code",
   "execution_count": null,
   "metadata": {},
   "outputs": [],
   "source": [
    "def plot_lines():\n",
    "    fig, ax = plt.subplots(1, 1, figsize=(8, 8))\n",
    "    np.random.seed(42)\n",
    "    for _ in range(3):\n",
    "        ax.plot(np.random.rand(10))\n",
    "    ax.set_xlabel('x axis')\n",
    "    ax.set_ylabel('y axis')\n",
    "    ax.set_title('Title')\n",
    "    ax.legend(['a', 'b', 'c'], bbox_to_anchor=(1.01, 1), loc='upper left')"
   ]
  },
  {
   "cell_type": "code",
   "execution_count": null,
   "metadata": {},
   "outputs": [],
   "source": [
    "plot_lines()"
   ]
  },
  {
   "cell_type": "code",
   "execution_count": null,
   "metadata": {},
   "outputs": [],
   "source": [
    "with plt.style.context('pyladies'):\n",
    "    plot_lines()"
   ]
  },
  {
   "cell_type": "markdown",
   "metadata": {},
   "source": [
    "# How do I do that?"
   ]
  },
  {
   "cell_type": "markdown",
   "metadata": {},
   "source": [
    "First, find out where Matplotlib lives on your system"
   ]
  },
  {
   "cell_type": "code",
   "execution_count": null,
   "metadata": {},
   "outputs": [],
   "source": [
    "import matplotlib\n",
    "config_dir = matplotlib.get_configdir()"
   ]
  },
  {
   "cell_type": "code",
   "execution_count": null,
   "metadata": {},
   "outputs": [],
   "source": [
    "config_dir"
   ]
  },
  {
   "cell_type": "markdown",
   "metadata": {},
   "source": [
    "If it doesn't already exist on your system, create a `stylelib` directory within the Matplotlib config directory.\n",
    "\n",
    "Then create a new `.mplstyle` file"
   ]
  },
  {
   "cell_type": "code",
   "execution_count": null,
   "metadata": {},
   "outputs": [],
   "source": [
    "from pathlib import Path\n",
    "\n",
    "p = Path(config_dir)\n",
    "stylelib = (p / 'stylelib')\n",
    "stylelib.mkdir(exist_ok=True) # make the directory only if it doesn't already exist"
   ]
  },
  {
   "cell_type": "code",
   "execution_count": null,
   "metadata": {},
   "outputs": [],
   "source": [
    "path = stylelib / 'pyladies.mplstyle'"
   ]
  },
  {
   "cell_type": "markdown",
   "metadata": {},
   "source": [
    "Now define everything you want for your reusable style! Everything can be changed, you're limited only by your imagination.\n",
    "\n",
    "Documentation is at: https://matplotlib.org/tutorials/introductory/customizing.html"
   ]
  },
  {
   "cell_type": "code",
   "execution_count": null,
   "metadata": {},
   "outputs": [],
   "source": [
    "path.write_text('''\n",
    "lines.linewidth : 3\n",
    "axes.prop_cycle    : cycler('color', ['FFB6A2', 'FF4674', '4C3277'])\n",
    "axes.grid : True\n",
    "axes.spines.left   : False   \n",
    "axes.spines.bottom : False\n",
    "axes.spines.top    : False\n",
    "axes.spines.right  : False\n",
    "figure.facecolor : ffffff\n",
    "patch.edgecolor : ffffff\n",
    "patch.facecolor : ffffff\n",
    "savefig.edgecolor : ffffff\n",
    "savefig.facecolor : ffffff\n",
    "xtick.bottom: False\n",
    "ytick.left : False\n",
    "grid.linestyle : --\n",
    "font.family  : fantasy\n",
    "font.fantasy : xkcd\n",
    "font.size : 14\n",
    "''');"
   ]
  },
  {
   "cell_type": "markdown",
   "metadata": {},
   "source": [
    "Reload Matplotlib's styles"
   ]
  },
  {
   "cell_type": "code",
   "execution_count": null,
   "metadata": {},
   "outputs": [],
   "source": [
    "matplotlib.style.reload_library()"
   ]
  },
  {
   "cell_type": "markdown",
   "metadata": {},
   "source": [
    "And our style is there!"
   ]
  },
  {
   "cell_type": "code",
   "execution_count": null,
   "metadata": {},
   "outputs": [],
   "source": [
    "plt.style.available"
   ]
  },
  {
   "cell_type": "markdown",
   "metadata": {},
   "source": [
    "## Further reading\n",
    "\n",
    "A useful reference for styles: https://ipython-books.github.io/61-using-matplotlib-styles/\n",
    "\n",
    "How to think in Matplotlib:\n",
    "\n",
    "https://pbpython.com/effective-matplotlib.html\n",
    "\n",
    "https://www.youtube.com/watch?v=rARMKS8jE9g\n"
   ]
  },
  {
   "cell_type": "code",
   "execution_count": null,
   "metadata": {},
   "outputs": [],
   "source": []
  }
 ],
 "metadata": {
  "kernelspec": {
   "display_name": "Python 3",
   "language": "python",
   "name": "python3"
  },
  "language_info": {
   "codemirror_mode": {
    "name": "ipython",
    "version": 3
   },
   "file_extension": ".py",
   "mimetype": "text/x-python",
   "name": "python",
   "nbconvert_exporter": "python",
   "pygments_lexer": "ipython3",
   "version": "3.7.2"
  }
 },
 "nbformat": 4,
 "nbformat_minor": 4
}
